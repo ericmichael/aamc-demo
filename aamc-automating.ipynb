{
 "cells": [
  {
   "cell_type": "markdown",
   "id": "8ec2fef2",
   "metadata": {
    "slideshow": {
     "slide_type": "slide"
    }
   },
   "source": [
    "# Using the OpenAI API\n",
    "* **Created by:** Eric Martinez\n",
    "* **For:** DDAMC"
   ]
  },
  {
   "cell_type": "markdown",
   "id": "6c3f79e3",
   "metadata": {
    "slideshow": {
     "slide_type": "slide"
    }
   },
   "source": [
    "## OpenAI API\n",
    "\n",
    "The OpenAI API provides access to powerful LLMs like GPT-3.5 and GPT-4, enabling developers to leverage these models in their applications. To access the API, sign up for an API key on the OpenAI website and follow the documentation to make API calls.\n",
    "\n",
    "For enterprise: Azure OpenAI offers a robust and scalable platform for deploying LLMs in enterprise applications. It provides features like security, compliance, and support, making it an ideal choice for businesses looking to leverage LLMs.\n",
    "\n",
    "Options:\n",
    "* [[Paid] Sign-up for OpenAI API Access](https://platform.openai.com/signup)"
   ]
  },
  {
   "cell_type": "markdown",
   "id": "c412a4e9",
   "metadata": {
    "slideshow": {
     "slide_type": "slide"
    }
   },
   "source": [
    "## Managing Application Secrets\n",
    "\n",
    "Secrets are sensitive information, such as API keys, passwords, or cryptographic keys, that must be protected to ensure the security and integrity of a system.\n",
    "\n",
    "In software development, secrets are often used to authenticate users, grant access to resources, or encrypt/decrypt data. Mismanaging or exposing secrets can lead to severe security breaches and data leaks."
   ]
  },
  {
   "cell_type": "markdown",
   "id": "2059552f",
   "metadata": {
    "slideshow": {
     "slide_type": "slide"
    }
   },
   "source": [
    "#### Common examples of secrets\n",
    "* API keys\n",
    "* Database credentials\n",
    "* SSH keys\n",
    "* OAuth access tokens\n",
    "* Encryption/decryption keys"
   ]
  },
  {
   "cell_type": "markdown",
   "id": "a1e650f8",
   "metadata": {
    "slideshow": {
     "slide_type": "slide"
    }
   },
   "source": [
    "#### Common mistakes when handling secrets\n",
    "* Storing secrets in plain text\n",
    "* Hardcoding secrets in source code\n",
    "* Sharing secrets through unsecured channels (e.g., email or messaging apps)\n",
    "* Using the same secret for multiple purposes\n",
    "* Not rotating or updating secrets regularly"
   ]
  },
  {
   "cell_type": "markdown",
   "id": "66de4ac1",
   "metadata": {
    "slideshow": {
     "slide_type": "skip"
    }
   },
   "source": [
    "How attackers might obtain secrets\n",
    "* Exploiting vulnerabilities in software or infrastructure\n",
    "* Intercepting unencrypted communications\n",
    "* Gaining unauthorized access to repositories or storage systems\n",
    "* Social engineering or phishing attacks\n",
    "* Brute-forcing weak secrets\n",
    "\n",
    "The impact of compromised secrets\n",
    "* Unauthorized access to sensitive data\n",
    "* Data breaches, resulting in financial loss and reputational damage\n",
    "* Loss of trust from customers and stakeholders\n",
    "* Legal repercussions and regulatory fines\n",
    "* Potential takeover or manipulation of systems\n",
    "\n",
    "Steps to protect secrets\n",
    "* Store secrets securely using secret management tools or dedicated secret storage services\n",
    "* Encrypt secrets at rest and in transit\n",
    "* Use strong, unique secrets and rotate them regularly\n",
    "* Limit access to secrets on a need-to-know basis\n",
    "* Implement proper auditing and monitoring of secret usage\n",
    "\n",
    "Cloud services and secret management\n",
    "* Many cloud providers offer secret management services (e.g., AWS Secrets Manager, Azure Key Vault, Google Cloud Secret Manager) that securely store, manage, and rotate secrets.\n",
    "* These services often provide access control, encryption, and auditing capabilities.\n",
    "* Integrating cloud secret management services with your application can help secure sensitive information and reduce the risk of exposure.\n",
    "\n",
    "Best practices for secrets\n",
    "* Use different secrets for development, testing, and production environments to minimize the risk of accidental exposure.\n",
    "* Regularly audit and review secret access to ensure only authorized users have access.\n",
    "* Establish a clear process for managing secrets, including secret creation, storage, rotation, and deletion.\n",
    "* Educate team members on the importance of secret security and the best practices for handling sensitive information."
   ]
  },
  {
   "cell_type": "markdown",
   "id": "ef366b65",
   "metadata": {
    "slideshow": {
     "slide_type": "slide"
    }
   },
   "source": [
    "#### Using  `.dotenv` library to protect secrets in Python"
   ]
  },
  {
   "cell_type": "markdown",
   "id": "dc39df10",
   "metadata": {
    "slideshow": {
     "slide_type": "fragment"
    }
   },
   "source": [
    " `.dotenv` is a Python library that allows developers to load environment variables from a `.env` file. It helps keep secrets out of source code and makes it easier to manage and update them."
   ]
  },
  {
   "cell_type": "markdown",
   "id": "ae0500ea",
   "metadata": {
    "slideshow": {
     "slide_type": "slide"
    }
   },
   "source": [
    "Install the `python-dotenv` library"
   ]
  },
  {
   "cell_type": "code",
   "execution_count": 7,
   "id": "1212333f",
   "metadata": {
    "slideshow": {
     "slide_type": "fragment"
    }
   },
   "outputs": [],
   "source": [
    "!pip -q install --upgrade python-dotenv"
   ]
  },
  {
   "cell_type": "markdown",
   "id": "faecedf0",
   "metadata": {
    "slideshow": {
     "slide_type": "slide"
    }
   },
   "source": [
    "Create a `.env` file in this folder using any editor."
   ]
  },
  {
   "cell_type": "markdown",
   "id": "a880382a",
   "metadata": {
    "slideshow": {
     "slide_type": "fragment"
    }
   },
   "source": [
    "Add secrets as key-value pairs in the `.env` file"
   ]
  },
  {
   "cell_type": "markdown",
   "id": "04f00703",
   "metadata": {
    "slideshow": {
     "slide_type": "slide"
    }
   },
   "source": [
    "Use the following format:"
   ]
  },
  {
   "cell_type": "code",
   "execution_count": null,
   "id": "7cf6ed7b",
   "metadata": {
    "slideshow": {
     "slide_type": "fragment"
    }
   },
   "outputs": [],
   "source": [
    "OPENAI_API_KEY=<your OpenAI API key>"
   ]
  },
  {
   "cell_type": "markdown",
   "id": "955963ed",
   "metadata": {
    "slideshow": {
     "slide_type": "slide"
    }
   },
   "source": [
    "Then, use the following code to load those secrets into this notebook:"
   ]
  },
  {
   "cell_type": "code",
   "execution_count": 2,
   "id": "fcadf45e",
   "metadata": {
    "slideshow": {
     "slide_type": "fragment"
    }
   },
   "outputs": [
    {
     "data": {
      "text/plain": [
       "True"
      ]
     },
     "execution_count": 2,
     "metadata": {},
     "output_type": "execute_result"
    }
   ],
   "source": [
    "from dotenv import load_dotenv\n",
    "\n",
    "load_dotenv()  # take environment variables from .env."
   ]
  },
  {
   "cell_type": "markdown",
   "id": "d3b6c394",
   "metadata": {
    "slideshow": {
     "slide_type": "slide"
    }
   },
   "source": [
    "#### Install Dependencies"
   ]
  },
  {
   "cell_type": "code",
   "execution_count": 8,
   "id": "bcc79375",
   "metadata": {
    "slideshow": {
     "slide_type": "fragment"
    }
   },
   "outputs": [],
   "source": [
    "!pip -q install --upgrade openai"
   ]
  },
  {
   "cell_type": "markdown",
   "id": "f2ed966d",
   "metadata": {
    "slideshow": {
     "slide_type": "slide"
    }
   },
   "source": [
    "#### Let's make a function to wrap OpenAI functionality and write some basic tests"
   ]
  },
  {
   "cell_type": "markdown",
   "id": "c1b09026",
   "metadata": {
    "slideshow": {
     "slide_type": "fragment"
    }
   },
   "source": [
    "Start by simply seeing if we can make an API call"
   ]
  },
  {
   "cell_type": "code",
   "execution_count": 3,
   "id": "295839a5",
   "metadata": {
    "slideshow": {
     "slide_type": "slide"
    }
   },
   "outputs": [
    {
     "name": "stdout",
     "output_type": "stream",
     "text": [
      "world\n"
     ]
    }
   ],
   "source": [
    "from dotenv import load_dotenv\n",
    "\n",
    "load_dotenv()  # take environment variables from .env.\n",
    "\n",
    "import openai\n",
    "\n",
    "# Define a function to get the AI's reply using the OpenAI API\n",
    "def get_ai_reply(message, model=\"gpt-4\", system_message=None, temperature=0):\n",
    "    # Initialize the messages list\n",
    "    messages = []\n",
    "    \n",
    "    # Add the system message to the messages list\n",
    "    if system_message is not None:\n",
    "        messages += [{\"role\": \"system\", \"content\": system_message}]\n",
    "    \n",
    "    # Add the user's message to the messages list\n",
    "    messages += [{\"role\": \"user\", \"content\": message}]\n",
    "    \n",
    "    # Make an API call to the OpenAI ChatCompletion endpoint with the model and messages\n",
    "    completion = openai.ChatCompletion.create(\n",
    "        model=model,\n",
    "        messages=messages,\n",
    "        temperature=temperature\n",
    "    )\n",
    "    \n",
    "    # Extract and return the AI's response from the API response\n",
    "    return completion.choices[0].message.content.strip()\n",
    "\n",
    "prompt = \"When I say hello, you say world\"\n",
    "print(get_ai_reply(\"hello\", system_message=prompt))"
   ]
  },
  {
   "cell_type": "markdown",
   "id": "8af34e27",
   "metadata": {},
   "source": [
    "Check to see if we can get the data as a CSV formatted string"
   ]
  },
  {
   "cell_type": "code",
   "execution_count": 5,
   "id": "c452259f",
   "metadata": {},
   "outputs": [
    {
     "name": "stdout",
     "output_type": "stream",
     "text": [
      "patient_name, age, symptoms, duration, additional_information\n",
      "Noah,65,Hypertension and intermittent chest discomfort,One week,Noticeable after physical activity\n",
      "Emma,25,Rash and joint pain,Three days,Increases in severity at night\n",
      "Lucas,33,Frequent urination and weight loss,One month,Mild discomfort\n",
      "Olivia,48,Recurring dry cough and breathlessness,Two weeks,Primarily during the daytime\n"
     ]
    }
   ],
   "source": [
    "\n",
    "prompt=\"\"\"\n",
    "You are an expert in medical transcription.\n",
    "\n",
    "## Task\n",
    "\n",
    "You will be provided with unstructured data, and your task is to parse it into CSV format.\n",
    "\n",
    "## Format \n",
    "\n",
    "The headers for your CSV output are as follows:\n",
    "patient_name, age, symptoms, duration, additional_information\n",
    "\n",
    "Always include the header again in your response.\n",
    "\n",
    "## Example\n",
    "\n",
    "User: \"Patient John, aged 42 years, reported a stiff neck and a constant, throbbing headache for the past three days. Symptoms are severe in the morning. Patient Mary, 56 years old, complained about abdominal pain and vomiting for the last two days. Pain is severe and the vomiting is recurring after meals. Young patient Timothy, 7 years old, has been experiencing mild fever and a runny nose for five days, symptoms are worse in the evening. Lastly, patient Lisa, 36 years old, reported chronic low back pain for two weeks, the pain is moderate and often increases with physical activity.\"\n",
    "\n",
    "Assistant:\n",
    "patient_name, age, symptoms, duration, additional_information\n",
    "John,42,\"Stiff neck and constant, throbbing headache\",Three days,Severe in the morning\n",
    "Mary,56,Abdominal pain and vomiting,Two days,Severe and recurring after meals\n",
    "Timothy,7,Mild fever and a runny nose,Five days,Worse in the evening\n",
    "Lisa,36,Chronic low back pain,Two weeks,Moderate and increases with physical activity\n",
    "\n",
    "## Begin\n",
    "\"\"\"\n",
    "\n",
    "input = \"Resident Noah, a 65-year-old, has had hypertension and intermittent chest discomfort for the last week. Discomfort is particularly noticeable after physical activity. Emma, a 25-year-old, has reported a rash and joint pain that began three days ago and seems to increase in severity at night. Another patient, Lucas, aged 33, has been experiencing frequent urination and weight loss over the past month, with mild discomfort reported. Finally, Olivia, a 48-year-old, has a recurring dry cough and feeling of breathlessness for the last two weeks, primarily occurring during the daytime.\"\n",
    "csv_text = get_ai_reply(input, system_message=prompt) # get csv from openai\n",
    "print(csv_text)\n"
   ]
  },
  {
   "cell_type": "markdown",
   "id": "06db3729",
   "metadata": {},
   "source": [
    "Create a function that will do all of this for us and return a Pandas dataframe"
   ]
  },
  {
   "cell_type": "code",
   "execution_count": 31,
   "id": "d2b2bc15",
   "metadata": {
    "slideshow": {
     "slide_type": "slide"
    }
   },
   "outputs": [],
   "source": [
    "import pandas as pd\n",
    "import io   \n",
    "\n",
    "def df_from_text(text):\n",
    "    prompt=\"\"\"\n",
    "    You are an expert in medical transcription.\n",
    "\n",
    "    ## Task\n",
    "\n",
    "    You will be provided with unstructured data, and your task is to parse it into CSV format.\n",
    "\n",
    "    ## Format \n",
    "\n",
    "    The headers for your CSV output are as follows:\n",
    "    patient_name, age, symptoms, duration, additional_information\n",
    "\n",
    "    Always include the header again in your response.\n",
    "\n",
    "    ## Example\n",
    "\n",
    "    User: \"Patient John, aged 42 years, reported a stiff neck and a constant, throbbing headache for the past three days. Symptoms are severe in the morning. Patient Mary, 56 years old, complained about abdominal pain and vomiting for the last two days. Pain is severe and the vomiting is recurring after meals. Young patient Timothy, 7 years old, has been experiencing mild fever and a runny nose for five days, symptoms are worse in the evening. Lastly, patient Lisa, 36 years old, reported chronic low back pain for two weeks, the pain is moderate and often increases with physical activity.\"\n",
    "\n",
    "    Assistant:\n",
    "    patient_name, age, symptoms, duration, additional_information\n",
    "    John,42,\"Stiff neck and constant, throbbing headache\",Three days,Severe in the morning\n",
    "    Mary,56,Abdominal pain and vomiting,Two days,Severe and recurring after meals\n",
    "    Timothy,7,Mild fever and a runny nose,Five days,Worse in the evening\n",
    "    Lisa,36,Chronic low back pain,Two weeks,Moderate and increases with physical activity\n",
    "\n",
    "    ## Begin\n",
    "    \"\"\"\n",
    "\n",
    "    csv_text = get_ai_reply(text, system_message=prompt) # get csv from openai\n",
    "    df = pd.read_csv(io.StringIO(csv_text)) # convert to pandas dataframe\n",
    "    return df\n"
   ]
  },
  {
   "cell_type": "code",
   "execution_count": 35,
   "id": "c616e2c6",
   "metadata": {
    "slideshow": {
     "slide_type": "slide"
    }
   },
   "outputs": [
    {
     "data": {
      "text/html": [
       "<div>\n",
       "<style scoped>\n",
       "    .dataframe tbody tr th:only-of-type {\n",
       "        vertical-align: middle;\n",
       "    }\n",
       "\n",
       "    .dataframe tbody tr th {\n",
       "        vertical-align: top;\n",
       "    }\n",
       "\n",
       "    .dataframe thead th {\n",
       "        text-align: right;\n",
       "    }\n",
       "</style>\n",
       "<table border=\"1\" class=\"dataframe\">\n",
       "  <thead>\n",
       "    <tr style=\"text-align: right;\">\n",
       "      <th></th>\n",
       "      <th>patient_name</th>\n",
       "      <th>age</th>\n",
       "      <th>symptoms</th>\n",
       "      <th>duration</th>\n",
       "      <th>additional_information</th>\n",
       "    </tr>\n",
       "  </thead>\n",
       "  <tbody>\n",
       "    <tr>\n",
       "      <th>0</th>\n",
       "      <td>Noah</td>\n",
       "      <td>65</td>\n",
       "      <td>Hypertension and intermittent chest discomfort</td>\n",
       "      <td>One week</td>\n",
       "      <td>Noticeable after physical activity</td>\n",
       "    </tr>\n",
       "    <tr>\n",
       "      <th>1</th>\n",
       "      <td>Emma</td>\n",
       "      <td>25</td>\n",
       "      <td>Rash and joint pain</td>\n",
       "      <td>Three days</td>\n",
       "      <td>Increases in severity at night</td>\n",
       "    </tr>\n",
       "    <tr>\n",
       "      <th>2</th>\n",
       "      <td>Lucas</td>\n",
       "      <td>33</td>\n",
       "      <td>Frequent urination and weight loss</td>\n",
       "      <td>One month</td>\n",
       "      <td>Mild discomfort</td>\n",
       "    </tr>\n",
       "    <tr>\n",
       "      <th>3</th>\n",
       "      <td>Olivia</td>\n",
       "      <td>48</td>\n",
       "      <td>Recurring dry cough and breathlessness</td>\n",
       "      <td>Two weeks</td>\n",
       "      <td>Primarily during the daytime</td>\n",
       "    </tr>\n",
       "  </tbody>\n",
       "</table>\n",
       "</div>"
      ],
      "text/plain": [
       "  patient_name   age                                        symptoms  \\\n",
       "0         Noah    65  Hypertension and intermittent chest discomfort   \n",
       "1         Emma    25                             Rash and joint pain   \n",
       "2        Lucas    33              Frequent urination and weight loss   \n",
       "3       Olivia    48          Recurring dry cough and breathlessness   \n",
       "\n",
       "     duration              additional_information  \n",
       "0    One week  Noticeable after physical activity  \n",
       "1  Three days      Increases in severity at night  \n",
       "2   One month                     Mild discomfort  \n",
       "3   Two weeks        Primarily during the daytime  "
      ]
     },
     "metadata": {},
     "output_type": "display_data"
    }
   ],
   "source": [
    "text = \"Resident Noah, a 65-year-old, has had hypertension and intermittent chest discomfort for the last week. Discomfort is particularly noticeable after physical activity. Emma, a 25-year-old, has reported a rash and joint pain that began three days ago and seems to increase in severity at night. Another patient, Lucas, aged 33, has been experiencing frequent urination and weight loss over the past month, with mild discomfort reported. Finally, Olivia, a 48-year-old, has a recurring dry cough and feeling of breathlessness for the last two weeks, primarily occurring during the daytime.\"\n",
    "df = df_from_text(text)\n",
    "display(df)"
   ]
  },
  {
   "cell_type": "markdown",
   "id": "9195666c",
   "metadata": {},
   "source": [
    "Create a user interface for this using Gradio"
   ]
  },
  {
   "cell_type": "code",
   "execution_count": 33,
   "id": "525dcb63",
   "metadata": {
    "slideshow": {
     "slide_type": "slide"
    }
   },
   "outputs": [],
   "source": [
    "!pip -q install --upgrade gradio"
   ]
  },
  {
   "cell_type": "code",
   "execution_count": 34,
   "id": "57dee4a6",
   "metadata": {
    "slideshow": {
     "slide_type": "slide"
    }
   },
   "outputs": [
    {
     "name": "stdout",
     "output_type": "stream",
     "text": [
      "Running on local URL:  http://127.0.0.1:7865\n",
      "Running on public URL: https://9dd0d51dadd9efee1d.gradio.live\n",
      "\n",
      "This share link expires in 72 hours. For free permanent hosting and GPU upgrades, run `gradio deploy` from Terminal to deploy to Spaces (https://huggingface.co/spaces)\n"
     ]
    },
    {
     "data": {
      "text/html": [
       "<div><iframe src=\"https://9dd0d51dadd9efee1d.gradio.live\" width=\"100%\" height=\"500\" allow=\"autoplay; camera; microphone; clipboard-read; clipboard-write;\" frameborder=\"0\" allowfullscreen></iframe></div>"
      ],
      "text/plain": [
       "<IPython.core.display.HTML object>"
      ]
     },
     "metadata": {},
     "output_type": "display_data"
    }
   ],
   "source": [
    "import gradio as gr\n",
    "\n",
    "def parse_text(text):\n",
    "    df = df_from_text(text)\n",
    "    csv_location = \"output.csv\"\n",
    "    df.to_csv(csv_location)\n",
    "    return df, csv_location\n",
    "\n",
    "with gr.Blocks() as demo:\n",
    "    with gr.Tab(\"Unstructured Notes to CSV\"):\n",
    "        with gr.Row():\n",
    "            with gr.Column():\n",
    "                notes = gr.Textbox(label=\"Notes\", lines=5)\n",
    "                btn = gr.Button(value =\"Submit\")\n",
    "                table = gr.Dataframe(label=\"Results\")\n",
    "                csv_file = gr.File(label=\"CSV Output\", interactive=False)\n",
    "            btn.click(parse_text, inputs = [notes], outputs = [table, csv_file])\n",
    "    demo.launch(share=True)\n"
   ]
  },
  {
   "cell_type": "code",
   "execution_count": null,
   "id": "3cc4dbbb",
   "metadata": {},
   "outputs": [],
   "source": []
  }
 ],
 "metadata": {
  "celltoolbar": "Slideshow",
  "kernelspec": {
   "display_name": "Python 3 (ipykernel)",
   "language": "python",
   "name": "python3"
  },
  "language_info": {
   "codemirror_mode": {
    "name": "ipython",
    "version": 3
   },
   "file_extension": ".py",
   "mimetype": "text/x-python",
   "name": "python",
   "nbconvert_exporter": "python",
   "pygments_lexer": "ipython3",
   "version": "3.10.8"
  }
 },
 "nbformat": 4,
 "nbformat_minor": 5
}
